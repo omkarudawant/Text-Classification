{
 "cells": [
  {
   "cell_type": "code",
   "execution_count": 1,
   "metadata": {
    "ExecuteTime": {
     "end_time": "2020-10-03T13:14:09.355396Z",
     "start_time": "2020-10-03T13:14:06.399627Z"
    }
   },
   "outputs": [],
   "source": [
    "from warnings import filterwarnings\n",
    "filterwarnings('ignore')\n",
    "\n",
    "import time\n",
    "import pandas as pd\n",
    "import numpy as np\n",
    "import joblib\n",
    "\n",
    "%matplotlib inline\n",
    "import matplotlib.pyplot as plt\n",
    "import seaborn as sns\n",
    "\n",
    "sns.set_style('darkgrid')\n",
    "\n",
    "from collections import Counter\n",
    "from sklearn.preprocessing import LabelEncoder\n",
    "from sklearn.feature_extraction.text import CountVectorizer\n",
    "from sklearn.decomposition import TruncatedSVD\n",
    "from sklearn.model_selection import train_test_split\n",
    "\n",
    "from sklearn.naive_bayes import MultinomialNB\n",
    "from sklearn.linear_model import LogisticRegression\n",
    "from sklearn.ensemble import RandomForestClassifier\n",
    "from sklearn.svm import LinearSVC\n",
    "from sklearn.tree import DecisionTreeClassifier\n",
    "from xgboost import XGBClassifier\n",
    "\n",
    "from dask_ml.wrappers import ParallelPostFit\n",
    "\n",
    "from sklearn.metrics import f1_score\n",
    "from sklearn.metrics import precision_score\n",
    "from sklearn.metrics import recall_score\n",
    "from sklearn.metrics import accuracy_score\n",
    "from sklearn.metrics import classification_report"
   ]
  },
  {
   "cell_type": "code",
   "execution_count": 2,
   "metadata": {
    "ExecuteTime": {
     "end_time": "2020-10-03T13:14:28.329528Z",
     "start_time": "2020-10-03T13:14:28.169499Z"
    }
   },
   "outputs": [
    {
     "name": "stdout",
     "output_type": "stream",
     "text": [
      "Wall time: 96.4 ms\n"
     ]
    },
    {
     "data": {
      "text/html": [
       "<div>\n",
       "<style scoped>\n",
       "    .dataframe tbody tr th:only-of-type {\n",
       "        vertical-align: middle;\n",
       "    }\n",
       "\n",
       "    .dataframe tbody tr th {\n",
       "        vertical-align: top;\n",
       "    }\n",
       "\n",
       "    .dataframe thead th {\n",
       "        text-align: right;\n",
       "    }\n",
       "</style>\n",
       "<table border=\"1\" class=\"dataframe\">\n",
       "  <thead>\n",
       "    <tr style=\"text-align: right;\">\n",
       "      <th></th>\n",
       "      <th>short_descriptions</th>\n",
       "      <th>assignment_groups</th>\n",
       "    </tr>\n",
       "  </thead>\n",
       "  <tbody>\n",
       "    <tr>\n",
       "      <th>111995</th>\n",
       "      <td>be can hcp not user</td>\n",
       "      <td>Service Desk - Sales All</td>\n",
       "    </tr>\n",
       "    <tr>\n",
       "      <th>111996</th>\n",
       "      <td>affiliation to</td>\n",
       "      <td>Service Desk - Sales All</td>\n",
       "    </tr>\n",
       "    <tr>\n",
       "      <th>111997</th>\n",
       "      <td>call to unable</td>\n",
       "      <td>Service Desk - Sales All</td>\n",
       "    </tr>\n",
       "    <tr>\n",
       "      <th>111998</th>\n",
       "      <td>question</td>\n",
       "      <td>Service Desk - Sales All</td>\n",
       "    </tr>\n",
       "    <tr>\n",
       "      <th>111999</th>\n",
       "      <td>into veeva</td>\n",
       "      <td>Service Desk - Sales All</td>\n",
       "    </tr>\n",
       "  </tbody>\n",
       "</table>\n",
       "</div>"
      ],
      "text/plain": [
       "         short_descriptions         assignment_groups\n",
       "111995  be can hcp not user  Service Desk - Sales All\n",
       "111996       affiliation to  Service Desk - Sales All\n",
       "111997       call to unable  Service Desk - Sales All\n",
       "111998             question  Service Desk - Sales All\n",
       "111999           into veeva  Service Desk - Sales All"
      ]
     },
     "execution_count": 2,
     "metadata": {},
     "output_type": "execute_result"
    }
   ],
   "source": [
    "%%time\n",
    "df = pd.read_csv('../data/new_balanced_data_500_preprocessed.csv')\n",
    "df.tail()"
   ]
  },
  {
   "cell_type": "code",
   "execution_count": 3,
   "metadata": {},
   "outputs": [
    {
     "data": {
      "text/plain": [
       "Index(['short_descriptions', 'assignment_groups'], dtype='object')"
      ]
     },
     "execution_count": 3,
     "metadata": {},
     "output_type": "execute_result"
    }
   ],
   "source": [
    "df.columns"
   ]
  },
  {
   "cell_type": "code",
   "execution_count": 4,
   "metadata": {
    "ExecuteTime": {
     "end_time": "2020-10-03T13:14:35.700628Z",
     "start_time": "2020-10-03T13:14:35.444597Z"
    }
   },
   "outputs": [],
   "source": [
    "vectorizer = joblib.load('../models/vectorizer')\n",
    "encoder = joblib.load('../models/encoder')"
   ]
  },
  {
   "cell_type": "code",
   "execution_count": 5,
   "metadata": {
    "ExecuteTime": {
     "end_time": "2020-10-03T13:14:35.732614Z",
     "start_time": "2020-10-03T13:14:35.700628Z"
    }
   },
   "outputs": [
    {
     "data": {
      "text/plain": [
       "short_descriptions    1.635714\n",
       "assignment_groups     0.000000\n",
       "dtype: float64"
      ]
     },
     "execution_count": 5,
     "metadata": {},
     "output_type": "execute_result"
    }
   ],
   "source": [
    "df.isna().sum() / len(df) * 100"
   ]
  },
  {
   "cell_type": "code",
   "execution_count": 6,
   "metadata": {
    "ExecuteTime": {
     "end_time": "2020-10-03T13:15:42.117080Z",
     "start_time": "2020-10-03T13:15:42.077078Z"
    }
   },
   "outputs": [],
   "source": [
    "df.dropna(inplace=True)"
   ]
  },
  {
   "cell_type": "code",
   "execution_count": 7,
   "metadata": {},
   "outputs": [],
   "source": [
    "df = df.sample(frac=1)"
   ]
  },
  {
   "cell_type": "code",
   "execution_count": 8,
   "metadata": {
    "ExecuteTime": {
     "end_time": "2020-10-03T13:15:43.916667Z",
     "start_time": "2020-10-03T13:15:43.532638Z"
    },
    "scrolled": false
   },
   "outputs": [
    {
     "data": {
      "image/png": "[encoded data removed]",
      "text/plain": [
       "<Figure size 1152x432 with 1 Axes>"
      ]
     },
     "metadata": {},
     "output_type": "display_data"
    }
   ],
   "source": [
    "df['assignment_groups'].value_counts().plot(kind='bar', figsize=(16, 6))\n",
    "plt.show()"
   ]
  },
  {
   "cell_type": "code",
   "execution_count": 9,
   "metadata": {
    "ExecuteTime": {
     "end_time": "2020-10-03T13:15:53.480902Z",
     "start_time": "2020-10-03T13:15:53.464895Z"
    }
   },
   "outputs": [],
   "source": [
    "X = df['short_descriptions'].values\n",
    "y = df['assignment_groups'].values"
   ]
  },
  {
   "cell_type": "code",
   "execution_count": 10,
   "metadata": {
    "ExecuteTime": {
     "end_time": "2020-10-03T13:15:53.881185Z",
     "start_time": "2020-10-03T13:15:53.873190Z"
    }
   },
   "outputs": [
    {
     "data": {
      "text/plain": [
       "array(['2020 do exist hr id idm not terminate week', 'invoice post',\n",
       "       'email po of via re nonreceipt', ..., 'find ibuy in not supplier',\n",
       "       'adobe request', 'niger node update'], dtype=object)"
      ]
     },
     "execution_count": 10,
     "metadata": {},
     "output_type": "execute_result"
    }
   ],
   "source": [
    "X"
   ]
  },
  {
   "cell_type": "code",
   "execution_count": 11,
   "metadata": {
    "ExecuteTime": {
     "end_time": "2020-10-03T13:15:54.465063Z",
     "start_time": "2020-10-03T13:15:54.441043Z"
    }
   },
   "outputs": [
    {
     "data": {
      "text/plain": [
       "array(['G SNOW RU SERVICE DESK', 'SD_UC_CoCare_NSN_GL',\n",
       "       'SD_1stL_SD-UC_NSN_ENG_PH', ..., 'I-Buy Process Support',\n",
       "       'Service Desk - GAM', 'SD_UC_CoCare_NSN_GL'], dtype=object)"
      ]
     },
     "execution_count": 11,
     "metadata": {},
     "output_type": "execute_result"
    }
   ],
   "source": [
    "y"
   ]
  },
  {
   "cell_type": "code",
   "execution_count": 12,
   "metadata": {
    "ExecuteTime": {
     "end_time": "2020-10-03T13:15:58.399861Z",
     "start_time": "2020-10-03T13:15:57.567840Z"
    }
   },
   "outputs": [
    {
     "name": "stdout",
     "output_type": "stream",
     "text": [
      "Wall time: 838 ms\n"
     ]
    }
   ],
   "source": [
    "%%time\n",
    "X = vectorizer.transform(X)"
   ]
  },
  {
   "cell_type": "code",
   "execution_count": 13,
   "metadata": {
    "ExecuteTime": {
     "end_time": "2020-10-03T13:15:58.607864Z",
     "start_time": "2020-10-03T13:15:58.399861Z"
    }
   },
   "outputs": [
    {
     "name": "stdout",
     "output_type": "stream",
     "text": [
      "Wall time: 159 ms\n"
     ]
    }
   ],
   "source": [
    "%%time\n",
    "y = encoder.transform(y.astype(str))"
   ]
  },
  {
   "cell_type": "code",
   "execution_count": 14,
   "metadata": {
    "ExecuteTime": {
     "end_time": "2020-10-03T13:16:05.165439Z",
     "start_time": "2020-10-03T13:16:05.117438Z"
    }
   },
   "outputs": [],
   "source": [
    "X_train, X_test, y_train, y_test = train_test_split(X, y, test_size=0.2, random_state=0)"
   ]
  },
  {
   "cell_type": "code",
   "execution_count": 15,
   "metadata": {
    "ExecuteTime": {
     "end_time": "2020-10-03T13:16:05.565775Z",
     "start_time": "2020-10-03T13:16:05.549783Z"
    }
   },
   "outputs": [
    {
     "name": "stdout",
     "output_type": "stream",
     "text": [
      "(88134, 25388) (88134,) (22034, 25388) (22034,)\n"
     ]
    }
   ],
   "source": [
    "print(X_train.shape, y_train.shape, X_test.shape, y_test.shape)"
   ]
  },
  {
   "cell_type": "code",
   "execution_count": 16,
   "metadata": {
    "ExecuteTime": {
     "end_time": "2020-10-03T13:19:45.613652Z",
     "start_time": "2020-10-03T13:19:45.597636Z"
    }
   },
   "outputs": [],
   "source": [
    "models = [\n",
    "    MultinomialNB(),\n",
    "    LogisticRegression(n_jobs=-1),\n",
    "    RandomForestClassifier(n_jobs=-1),\n",
    "    LinearSVC(),\n",
    "    DecisionTreeClassifier()\n",
    "]\n",
    "\n",
    "\n",
    "def display_metrics(true, pred):\n",
    "    f1 = round(f1_score(y_true=true, y_pred=pred, average='weighted') * 100, 2)\n",
    "    precision = round(precision_score(y_true=true, y_pred=pred, average='weighted') * 100, 2)\n",
    "    recall = round(recall_score(y_true=true, y_pred=pred, average='weighted') * 100, 2)\n",
    "    acc = round(accuracy_score(y_true=y_test, y_pred=preds) * 100, 2)\n",
    "\n",
    "    print(f'Accuracy: {acc} | F1: {f1} | Precision: {precision} | Recall: {recall}')\n",
    "    \n",
    "    return acc, f1, precision, recall"
   ]
  },
  {
   "cell_type": "code",
   "execution_count": 17,
   "metadata": {
    "ExecuteTime": {
     "end_time": "2020-10-03T13:26:36.522620Z",
     "start_time": "2020-10-03T13:19:45.798122Z"
    }
   },
   "outputs": [
    {
     "name": "stdout",
     "output_type": "stream",
     "text": [
      "Training -> MultinomialNB\n",
      "Training time: 0 seconds\n",
      "Accuracy: 74.0 | F1: 74.03 | Precision: 74.76 | Recall: 74.0\n",
      "--------------------------------------------------\n",
      "Training -> LogisticRegression\n",
      "Training time: 22 seconds\n",
      "Accuracy: 79.25 | F1: 79.28 | Precision: 79.64 | Recall: 79.25\n",
      "--------------------------------------------------\n",
      "Training -> RandomForestClassifier\n",
      "Training time: 365 seconds\n",
      "Accuracy: 80.18 | F1: 79.84 | Precision: 81.02 | Recall: 80.18\n",
      "--------------------------------------------------\n",
      "Training -> LinearSVC\n",
      "Training time: 25 seconds\n",
      "Accuracy: 79.17 | F1: 79.19 | Precision: 79.68 | Recall: 79.17\n",
      "--------------------------------------------------\n",
      "Training -> DecisionTreeClassifier\n",
      "Training time: 20 seconds\n",
      "Accuracy: 76.98 | F1: 76.38 | Precision: 77.48 | Recall: 76.98\n",
      "--------------------------------------------------\n",
      "Best model:  ParallelPostFit(estimator=RandomForestClassifier(n_jobs=-1))\n",
      "Wall time: 7min 14s\n"
     ]
    }
   ],
   "source": [
    "%%time\n",
    "\n",
    "trained_models = dict()\n",
    "\n",
    "for model in models:\n",
    "    model_name = model.__class__.__name__\n",
    "    print(f'Training -> {model_name}')\n",
    "    \n",
    "    s = time.time()\n",
    "    \n",
    "    predictor = ParallelPostFit(estimator=model)\n",
    "    predictor.fit(X_train, y_train)\n",
    "    \n",
    "    e = time.time()\n",
    "    \n",
    "    print(f'Training time: {round(e - s)} seconds')\n",
    "    \n",
    "    preds = predictor.predict(X_test)\n",
    "    \n",
    "    acc, f1, precision, recall = display_metrics(true=y_test, pred=preds)\n",
    "    \n",
    "    trained_models[f1] = predictor   \n",
    "    \n",
    "    print('-' * 50)\n",
    "    \n",
    "final_model = max(sorted(trained_models.items(), reverse=True))[1]\n",
    "print('Best model: ', final_model)"
   ]
  },
  {
   "cell_type": "markdown",
   "metadata": {},
   "source": [
    " "
   ]
  },
  {
   "cell_type": "code",
   "execution_count": 18,
   "metadata": {
    "ExecuteTime": {
     "end_time": "2020-10-03T13:28:40.508908Z",
     "start_time": "2020-10-03T13:28:40.492878Z"
    }
   },
   "outputs": [],
   "source": [
    "test = np.array([\n",
    "    'HCP restriction removal'\n",
    "])\n",
    "test = vectorizer.transform(test)"
   ]
  },
  {
   "cell_type": "code",
   "execution_count": 19,
   "metadata": {
    "ExecuteTime": {
     "end_time": "2020-10-03T13:28:40.836967Z",
     "start_time": "2020-10-03T13:28:40.700906Z"
    }
   },
   "outputs": [],
   "source": [
    "prediction = final_model.predict(test)"
   ]
  },
  {
   "cell_type": "code",
   "execution_count": 20,
   "metadata": {
    "ExecuteTime": {
     "end_time": "2020-10-03T13:28:46.410835Z",
     "start_time": "2020-10-03T13:28:41.404964Z"
    }
   },
   "outputs": [
    {
     "name": "stdout",
     "output_type": "stream",
     "text": [
      "Accuracy: 76.98 | F1: 91.75 | Precision: 92.0 | Recall: 91.64\n"
     ]
    },
    {
     "data": {
      "text/plain": [
       "(76.98, 91.75, 92.0, 91.64)"
      ]
     },
     "execution_count": 20,
     "metadata": {},
     "output_type": "execute_result"
    }
   ],
   "source": [
    "display_metrics(true=y_train, pred=final_model.predict(X_train))"
   ]
  },
  {
   "cell_type": "code",
   "execution_count": 21,
   "metadata": {},
   "outputs": [
    {
     "data": {
      "text/plain": [
       "['../models/best_model.joblib']"
      ]
     },
     "execution_count": 21,
     "metadata": {},
     "output_type": "execute_result"
    }
   ],
   "source": [
    "joblib.dump(value=final_model, filename='../models/best_model.joblib', compress=2)"
   ]
  },
  {
   "cell_type": "code",
   "execution_count": 22,
   "metadata": {},
   "outputs": [],
   "source": [
    "report = classification_report(y_true=y_test, y_pred=final_model.predict(X_test), output_dict=True)"
   ]
  },
  {
   "cell_type": "code",
   "execution_count": 23,
   "metadata": {},
   "outputs": [],
   "source": [
    "report_df = pd.DataFrame(report)"
   ]
  },
  {
   "cell_type": "code",
   "execution_count": 24,
   "metadata": {},
   "outputs": [],
   "source": [
    "new_indices = list(\n",
    "    encoder.inverse_transform(report_df.columns[:-3].astype('int'))\n",
    ") + ['accuracy', 'macro avg', 'weighted avg']"
   ]
  },
  {
   "cell_type": "code",
   "execution_count": 25,
   "metadata": {},
   "outputs": [],
   "source": [
    "report_df.columns = (new_indices)"
   ]
  },
  {
   "cell_type": "code",
   "execution_count": 26,
   "metadata": {},
   "outputs": [
    {
     "data": {
      "text/html": [
       "<div>\n",
       "<style scoped>\n",
       "    .dataframe tbody tr th:only-of-type {\n",
       "        vertical-align: middle;\n",
       "    }\n",
       "\n",
       "    .dataframe tbody tr th {\n",
       "        vertical-align: top;\n",
       "    }\n",
       "\n",
       "    .dataframe thead th {\n",
       "        text-align: right;\n",
       "    }\n",
       "</style>\n",
       "<table border=\"1\" class=\"dataframe\">\n",
       "  <thead>\n",
       "    <tr style=\"text-align: right;\">\n",
       "      <th></th>\n",
       "      <th>precision</th>\n",
       "      <th>recall</th>\n",
       "      <th>f1-score</th>\n",
       "      <th>support</th>\n",
       "    </tr>\n",
       "  </thead>\n",
       "  <tbody>\n",
       "    <tr>\n",
       "      <th>Deskside Carnegie</th>\n",
       "      <td>0.655629</td>\n",
       "      <td>0.797802</td>\n",
       "      <td>0.719762</td>\n",
       "      <td>1365.000000</td>\n",
       "    </tr>\n",
       "    <tr>\n",
       "      <th>G SNOW EXT ATOS CENTRAL USER ACCESS TEAM</th>\n",
       "      <td>0.853128</td>\n",
       "      <td>0.674069</td>\n",
       "      <td>0.753101</td>\n",
       "      <td>1396.000000</td>\n",
       "    </tr>\n",
       "    <tr>\n",
       "      <th>G SNOW EXT ATOS IS MAILING ADMINS</th>\n",
       "      <td>0.807573</td>\n",
       "      <td>0.781601</td>\n",
       "      <td>0.794375</td>\n",
       "      <td>1337.000000</td>\n",
       "    </tr>\n",
       "    <tr>\n",
       "      <th>G SNOW GR SERVICE DESK</th>\n",
       "      <td>0.948263</td>\n",
       "      <td>0.941997</td>\n",
       "      <td>0.945120</td>\n",
       "      <td>1362.000000</td>\n",
       "    </tr>\n",
       "    <tr>\n",
       "      <th>G SNOW IT SERVICE DESK</th>\n",
       "      <td>0.949242</td>\n",
       "      <td>0.932986</td>\n",
       "      <td>0.941044</td>\n",
       "      <td>1343.000000</td>\n",
       "    </tr>\n",
       "    <tr>\n",
       "      <th>G SNOW PL SERVICE DESK</th>\n",
       "      <td>0.929252</td>\n",
       "      <td>0.970860</td>\n",
       "      <td>0.949600</td>\n",
       "      <td>1407.000000</td>\n",
       "    </tr>\n",
       "    <tr>\n",
       "      <th>G SNOW RU SERVICE DESK</th>\n",
       "      <td>0.736381</td>\n",
       "      <td>0.869180</td>\n",
       "      <td>0.797288</td>\n",
       "      <td>1353.000000</td>\n",
       "    </tr>\n",
       "    <tr>\n",
       "      <th>GBL-WTI-AHS UNIX L1</th>\n",
       "      <td>0.930663</td>\n",
       "      <td>0.876633</td>\n",
       "      <td>0.902840</td>\n",
       "      <td>1378.000000</td>\n",
       "    </tr>\n",
       "    <tr>\n",
       "      <th>GBL-WTI-AHS WINTEL L1</th>\n",
       "      <td>0.875605</td>\n",
       "      <td>0.910855</td>\n",
       "      <td>0.892882</td>\n",
       "      <td>1391.000000</td>\n",
       "    </tr>\n",
       "    <tr>\n",
       "      <th>I-Buy Process Support</th>\n",
       "      <td>0.769917</td>\n",
       "      <td>0.890855</td>\n",
       "      <td>0.825983</td>\n",
       "      <td>1356.000000</td>\n",
       "    </tr>\n",
       "    <tr>\n",
       "      <th>PZC-FJ-ServiceDesk</th>\n",
       "      <td>0.786026</td>\n",
       "      <td>0.776420</td>\n",
       "      <td>0.781193</td>\n",
       "      <td>1391.000000</td>\n",
       "    </tr>\n",
       "    <tr>\n",
       "      <th>SD_1stL_SD-UC_NSN_ENG_PH</th>\n",
       "      <td>0.841415</td>\n",
       "      <td>0.454996</td>\n",
       "      <td>0.590616</td>\n",
       "      <td>1411.000000</td>\n",
       "    </tr>\n",
       "    <tr>\n",
       "      <th>SD_UC_CoCare_NSN_GL</th>\n",
       "      <td>0.661039</td>\n",
       "      <td>0.695355</td>\n",
       "      <td>0.677763</td>\n",
       "      <td>1464.000000</td>\n",
       "    </tr>\n",
       "    <tr>\n",
       "      <th>Service Desk - GAM</th>\n",
       "      <td>0.629951</td>\n",
       "      <td>0.829878</td>\n",
       "      <td>0.716225</td>\n",
       "      <td>1399.000000</td>\n",
       "    </tr>\n",
       "    <tr>\n",
       "      <th>Service Desk - Non Sales</th>\n",
       "      <td>0.779412</td>\n",
       "      <td>0.558315</td>\n",
       "      <td>0.650592</td>\n",
       "      <td>1329.000000</td>\n",
       "    </tr>\n",
       "    <tr>\n",
       "      <th>Service Desk - Sales All</th>\n",
       "      <td>0.818621</td>\n",
       "      <td>0.877959</td>\n",
       "      <td>0.847252</td>\n",
       "      <td>1352.000000</td>\n",
       "    </tr>\n",
       "    <tr>\n",
       "      <th>accuracy</th>\n",
       "      <td>0.801761</td>\n",
       "      <td>0.801761</td>\n",
       "      <td>0.801761</td>\n",
       "      <td>0.801761</td>\n",
       "    </tr>\n",
       "    <tr>\n",
       "      <th>macro avg</th>\n",
       "      <td>0.810757</td>\n",
       "      <td>0.802485</td>\n",
       "      <td>0.799102</td>\n",
       "      <td>22034.000000</td>\n",
       "    </tr>\n",
       "    <tr>\n",
       "      <th>weighted avg</th>\n",
       "      <td>0.810224</td>\n",
       "      <td>0.801761</td>\n",
       "      <td>0.798415</td>\n",
       "      <td>22034.000000</td>\n",
       "    </tr>\n",
       "  </tbody>\n",
       "</table>\n",
       "</div>"
      ],
      "text/plain": [
       "                                          precision    recall  f1-score  \\\n",
       "Deskside Carnegie                          0.655629  0.797802  0.719762   \n",
       "G SNOW EXT ATOS CENTRAL USER ACCESS TEAM   0.853128  0.674069  0.753101   \n",
       "G SNOW EXT ATOS IS MAILING ADMINS          0.807573  0.781601  0.794375   \n",
       "G SNOW GR SERVICE DESK                     0.948263  0.941997  0.945120   \n",
       "G SNOW IT SERVICE DESK                     0.949242  0.932986  0.941044   \n",
       "G SNOW PL SERVICE DESK                     0.929252  0.970860  0.949600   \n",
       "G SNOW RU SERVICE DESK                     0.736381  0.869180  0.797288   \n",
       "GBL-WTI-AHS UNIX L1                        0.930663  0.876633  0.902840   \n",
       "GBL-WTI-AHS WINTEL L1                      0.875605  0.910855  0.892882   \n",
       "I-Buy Process Support                      0.769917  0.890855  0.825983   \n",
       "PZC-FJ-ServiceDesk                         0.786026  0.776420  0.781193   \n",
       "SD_1stL_SD-UC_NSN_ENG_PH                   0.841415  0.454996  0.590616   \n",
       "SD_UC_CoCare_NSN_GL                        0.661039  0.695355  0.677763   \n",
       "Service Desk - GAM                         0.629951  0.829878  0.716225   \n",
       "Service Desk - Non Sales                   0.779412  0.558315  0.650592   \n",
       "Service Desk - Sales All                   0.818621  0.877959  0.847252   \n",
       "accuracy                                   0.801761  0.801761  0.801761   \n",
       "macro avg                                  0.810757  0.802485  0.799102   \n",
       "weighted avg                               0.810224  0.801761  0.798415   \n",
       "\n",
       "                                               support  \n",
       "Deskside Carnegie                          1365.000000  \n",
       "G SNOW EXT ATOS CENTRAL USER ACCESS TEAM   1396.000000  \n",
       "G SNOW EXT ATOS IS MAILING ADMINS          1337.000000  \n",
       "G SNOW GR SERVICE DESK                     1362.000000  \n",
       "G SNOW IT SERVICE DESK                     1343.000000  \n",
       "G SNOW PL SERVICE DESK                     1407.000000  \n",
       "G SNOW RU SERVICE DESK                     1353.000000  \n",
       "GBL-WTI-AHS UNIX L1                        1378.000000  \n",
       "GBL-WTI-AHS WINTEL L1                      1391.000000  \n",
       "I-Buy Process Support                      1356.000000  \n",
       "PZC-FJ-ServiceDesk                         1391.000000  \n",
       "SD_1stL_SD-UC_NSN_ENG_PH                   1411.000000  \n",
       "SD_UC_CoCare_NSN_GL                        1464.000000  \n",
       "Service Desk - GAM                         1399.000000  \n",
       "Service Desk - Non Sales                   1329.000000  \n",
       "Service Desk - Sales All                   1352.000000  \n",
       "accuracy                                      0.801761  \n",
       "macro avg                                 22034.000000  \n",
       "weighted avg                              22034.000000  "
      ]
     },
     "execution_count": 26,
     "metadata": {},
     "output_type": "execute_result"
    }
   ],
   "source": [
    "report_df.T"
   ]
  },
  {
   "cell_type": "code",
   "execution_count": 27,
   "metadata": {},
   "outputs": [],
   "source": [
    "report_df.T.to_csv('../data/classification_report_500.csv')"
   ]
  },
  {
   "cell_type": "code",
   "execution_count": null,
   "metadata": {},
   "outputs": [],
   "source": []
  }
 ],
 "metadata": {
  "kernelspec": {
   "display_name": "aiops",
   "language": "python",
   "name": "aiops"
  },
  "language_info": {
   "codemirror_mode": {
    "name": "ipython",
    "version": 3
   },
   "file_extension": ".py",
   "mimetype": "text/x-python",
   "name": "python",
   "nbconvert_exporter": "python",
   "pygments_lexer": "ipython3",
   "version": "3.7.9"
  }
 },
 "nbformat": 4,
 "nbformat_minor": 4
}
