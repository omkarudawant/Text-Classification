{
 "cells": [
  {
   "cell_type": "code",
   "execution_count": 1,
   "metadata": {
    "ExecuteTime": {
     "end_time": "2020-10-01T05:45:02.857266Z",
     "start_time": "2020-10-01T05:45:00.671680Z"
    }
   },
   "outputs": [],
   "source": [
    "import warnings\n",
    "warnings.filterwarnings('ignore')\n",
    "\n",
    "import pandas as pd\n",
    "import numpy as np\n",
    "import joblib\n",
    "import tqdm\n",
    "\n",
    "from sklearn.linear_model import LogisticRegression\n",
    "from sklearn.feature_extraction.text import CountVectorizer\n",
    "from sklearn.preprocessing import LabelEncoder\n",
    "from sklearn.model_selection import train_test_split\n",
    "\n",
    "from sklearn.metrics import accuracy_score\n",
    "from sklearn.metrics import f1_score\n",
    "from sklearn.metrics import precision_score\n",
    "from sklearn.metrics import recall_score\n",
    "from sklearn.metrics import classification_report"
   ]
  },
  {
   "cell_type": "code",
   "execution_count": 2,
   "metadata": {
    "ExecuteTime": {
     "end_time": "2020-10-01T05:45:03.174077Z",
     "start_time": "2020-10-01T05:45:02.857266Z"
    }
   },
   "outputs": [],
   "source": [
    "df = pd.read_csv('../data/final_data.csv')"
   ]
  },
  {
   "cell_type": "code",
   "execution_count": 3,
   "metadata": {
    "ExecuteTime": {
     "end_time": "2020-10-01T05:45:03.237063Z",
     "start_time": "2020-10-01T05:45:03.177070Z"
    }
   },
   "outputs": [
    {
     "data": {
      "text/plain": [
       "short_descriptions    0.016200\n",
       "assignment_groups     0.016146\n",
       "dtype: float64"
      ]
     },
     "execution_count": 3,
     "metadata": {},
     "output_type": "execute_result"
    }
   ],
   "source": [
    "df.isna().sum() / len(df)"
   ]
  },
  {
   "cell_type": "code",
   "execution_count": 4,
   "metadata": {
    "ExecuteTime": {
     "end_time": "2020-10-01T05:45:05.819919Z",
     "start_time": "2020-10-01T05:45:05.753868Z"
    }
   },
   "outputs": [],
   "source": [
    "df.dropna(inplace=True)"
   ]
  },
  {
   "cell_type": "code",
   "execution_count": 5,
   "metadata": {
    "ExecuteTime": {
     "end_time": "2020-10-01T05:45:06.455043Z",
     "start_time": "2020-10-01T05:45:06.441048Z"
    }
   },
   "outputs": [],
   "source": [
    "X_org = df['short_descriptions']\n",
    "y_org = df['assignment_groups']"
   ]
  },
  {
   "cell_type": "code",
   "execution_count": 6,
   "metadata": {
    "ExecuteTime": {
     "end_time": "2020-10-01T05:45:06.848965Z",
     "start_time": "2020-10-01T05:45:06.800969Z"
    }
   },
   "outputs": [],
   "source": [
    "vectorizer = CountVectorizer()\n",
    "encoder = LabelEncoder()\n",
    "\n",
    "y_org_enc = encoder.fit_transform(y_org)"
   ]
  },
  {
   "cell_type": "code",
   "execution_count": 7,
   "metadata": {
    "ExecuteTime": {
     "end_time": "2020-10-01T05:45:07.405912Z",
     "start_time": "2020-10-01T05:45:07.360893Z"
    }
   },
   "outputs": [],
   "source": [
    "X_train, X_test, y_train, y_test = train_test_split(X_org, y_org_enc, test_size=0.2, random_state=0)"
   ]
  },
  {
   "cell_type": "code",
   "execution_count": 8,
   "metadata": {
    "ExecuteTime": {
     "end_time": "2020-10-01T05:45:07.905819Z",
     "start_time": "2020-10-01T05:45:07.888820Z"
    }
   },
   "outputs": [
    {
     "data": {
      "text/plain": [
       "(130679, 32670, dtype('int32'), dtype('int32'))"
      ]
     },
     "execution_count": 8,
     "metadata": {},
     "output_type": "execute_result"
    }
   ],
   "source": [
    "len(y_train), len(y_test), y_train.dtype, y_test.dtype"
   ]
  },
  {
   "cell_type": "code",
   "execution_count": 9,
   "metadata": {
    "ExecuteTime": {
     "end_time": "2020-10-01T05:45:14.306333Z",
     "start_time": "2020-10-01T05:45:12.433774Z"
    }
   },
   "outputs": [],
   "source": [
    "X_train_vec = vectorizer.fit_transform(X_train)\n",
    "X_test_vec = vectorizer.transform(X_test)"
   ]
  },
  {
   "cell_type": "code",
   "execution_count": 10,
   "metadata": {
    "ExecuteTime": {
     "end_time": "2020-10-01T05:45:22.825784Z",
     "start_time": "2020-10-01T05:45:22.816778Z"
    }
   },
   "outputs": [],
   "source": [
    "model = LogisticRegression(n_jobs=-1, verbose=2, random_state=0)"
   ]
  },
  {
   "cell_type": "code",
   "execution_count": 11,
   "metadata": {
    "ExecuteTime": {
     "end_time": "2020-10-01T05:54:19.131432Z",
     "start_time": "2020-10-01T05:45:23.081353Z"
    }
   },
   "outputs": [
    {
     "name": "stderr",
     "output_type": "stream",
     "text": [
      "[Parallel(n_jobs=-1)]: Using backend LokyBackend with 4 concurrent workers.\n",
      "[Parallel(n_jobs=-1)]: Done   1 out of   1 | elapsed:  8.9min finished\n"
     ]
    },
    {
     "data": {
      "text/plain": [
       "LogisticRegression(n_jobs=-1, random_state=0, verbose=2)"
      ]
     },
     "execution_count": 11,
     "metadata": {},
     "output_type": "execute_result"
    }
   ],
   "source": [
    "model.fit(X_train_vec, y_train)"
   ]
  },
  {
   "cell_type": "code",
   "execution_count": 12,
   "metadata": {
    "ExecuteTime": {
     "end_time": "2020-10-01T05:54:19.163055Z",
     "start_time": "2020-10-01T05:54:19.131432Z"
    }
   },
   "outputs": [],
   "source": [
    "def display_metrics(true, pred):\n",
    "    f1 = round(f1_score(y_true=true, y_pred=pred, average='weighted') * 100, 2)\n",
    "    precision = round(\n",
    "        precision_score(y_true=true, y_pred=pred, average='weighted') * 100, 2)\n",
    "    recall = round(\n",
    "        recall_score(y_true=true, y_pred=pred, average='weighted') * 100, 2)\n",
    "    acc = round(accuracy_score(y_true=y_test, y_pred=preds) * 100, 2)\n",
    "\n",
    "    print(f'Acc: {acc}')\n",
    "    print(f'F1: {f1}')\n",
    "    print(f'Precision: {precision}')\n",
    "    print(f'Recall: {recall}')"
   ]
  },
  {
   "cell_type": "code",
   "execution_count": 13,
   "metadata": {
    "ExecuteTime": {
     "end_time": "2020-10-01T05:54:19.435099Z",
     "start_time": "2020-10-01T05:54:19.172058Z"
    }
   },
   "outputs": [],
   "source": [
    "preds = model.predict(X_test_vec)"
   ]
  },
  {
   "cell_type": "code",
   "execution_count": 14,
   "metadata": {
    "ExecuteTime": {
     "end_time": "2020-10-01T05:54:19.530053Z",
     "start_time": "2020-10-01T05:54:19.438061Z"
    }
   },
   "outputs": [
    {
     "name": "stdout",
     "output_type": "stream",
     "text": [
      "Acc: 83.08\n",
      "F1: 81.53\n",
      "Precision: 81.63\n",
      "Recall: 83.08\n"
     ]
    }
   ],
   "source": [
    "display_metrics(true=y_test, pred=preds)"
   ]
  },
  {
   "cell_type": "code",
   "execution_count": 15,
   "metadata": {
    "ExecuteTime": {
     "end_time": "2020-10-01T05:54:19.593053Z",
     "start_time": "2020-10-01T05:54:19.533053Z"
    }
   },
   "outputs": [],
   "source": [
    "predicted = encoder.inverse_transform(preds)\n",
    "actual = encoder.inverse_transform(y_test)\n",
    "actual_descriptions = X_test.copy()"
   ]
  },
  {
   "cell_type": "code",
   "execution_count": 16,
   "metadata": {
    "ExecuteTime": {
     "end_time": "2020-10-01T05:54:19.638065Z",
     "start_time": "2020-10-01T05:54:19.597060Z"
    }
   },
   "outputs": [],
   "source": [
    "result_df = pd.DataFrame(\n",
    "    {\n",
    "        'short_descriptions':actual_descriptions,\n",
    "        'true_assignment_group': actual,\n",
    "        'pred_assignment_group': predicted\n",
    "    }\n",
    ")"
   ]
  },
  {
   "cell_type": "code",
   "execution_count": 17,
   "metadata": {
    "ExecuteTime": {
     "end_time": "2020-10-01T05:54:19.700056Z",
     "start_time": "2020-10-01T05:54:19.645054Z"
    }
   },
   "outputs": [
    {
     "data": {
      "text/html": [
       "<div>\n",
       "<style scoped>\n",
       "    .dataframe tbody tr th:only-of-type {\n",
       "        vertical-align: middle;\n",
       "    }\n",
       "\n",
       "    .dataframe tbody tr th {\n",
       "        vertical-align: top;\n",
       "    }\n",
       "\n",
       "    .dataframe thead th {\n",
       "        text-align: right;\n",
       "    }\n",
       "</style>\n",
       "<table border=\"1\" class=\"dataframe\">\n",
       "  <thead>\n",
       "    <tr style=\"text-align: right;\">\n",
       "      <th></th>\n",
       "      <th>short_descriptions</th>\n",
       "      <th>true_assignment_group</th>\n",
       "      <th>pred_assignment_group</th>\n",
       "    </tr>\n",
       "  </thead>\n",
       "  <tbody>\n",
       "    <tr>\n",
       "      <th>155077</th>\n",
       "      <td>Update DNS Resolvers GBL-WTI-AHS UNIX L1</td>\n",
       "      <td>GBL-WTI-AHS UNIX L1</td>\n",
       "      <td>GBL-WTI-AHS UNIX L1</td>\n",
       "    </tr>\n",
       "    <tr>\n",
       "      <th>30086</th>\n",
       "      <td>IT- Issue with IT3PL0154</td>\n",
       "      <td>G SNOW IT SERVICE DESK</td>\n",
       "      <td>G SNOW IT SERVICE DESK</td>\n",
       "    </tr>\n",
       "    <tr>\n",
       "      <th>32942</th>\n",
       "      <td>bh-dc-os-dhn-40.eecloud.nsn-net.net  - 10.131....</td>\n",
       "      <td>SD_1stL_SD-UC_NSN_ENG_PH</td>\n",
       "      <td>SD_1stL_SD-UC_NSN_ENG_PH</td>\n",
       "    </tr>\n",
       "    <tr>\n",
       "      <th>147999</th>\n",
       "      <td>HCP restriction removal</td>\n",
       "      <td>Service Desk - Sales All</td>\n",
       "      <td>Service Desk - Sales All</td>\n",
       "    </tr>\n",
       "    <tr>\n",
       "      <th>101803</th>\n",
       "      <td>Multiple remote sites LAN and WLAN connectivit...</td>\n",
       "      <td>SD_1stL_SD-UC_NSN_ENG_PH</td>\n",
       "      <td>SD_1stL_SD-UC_NSN_ENG_PH</td>\n",
       "    </tr>\n",
       "    <tr>\n",
       "      <th>151055</th>\n",
       "      <td>Attach pdf document</td>\n",
       "      <td>Service Desk - Non Sales</td>\n",
       "      <td>Service Desk - Non Sales</td>\n",
       "    </tr>\n",
       "    <tr>\n",
       "      <th>61527</th>\n",
       "      <td>Role assignment for CDO IT Procurement Team me...</td>\n",
       "      <td>I-Buy Process Support</td>\n",
       "      <td>I-Buy Process Support</td>\n",
       "    </tr>\n",
       "    <tr>\n",
       "      <th>51747</th>\n",
       "      <td>PO#5020151697 closed =&gt; Please reopen</td>\n",
       "      <td>SD_UC_CoCare_NSN_GL</td>\n",
       "      <td>G SNOW EXT ATOS MTC FSM</td>\n",
       "    </tr>\n",
       "    <tr>\n",
       "      <th>18080</th>\n",
       "      <td>PL - Assign access to role</td>\n",
       "      <td>G SNOW PL SERVICE DESK</td>\n",
       "      <td>G SNOW PL SERVICE DESK</td>\n",
       "    </tr>\n",
       "    <tr>\n",
       "      <th>56435</th>\n",
       "      <td>Not able to import issue in Jira - No space le...</td>\n",
       "      <td>SD_1stL_SD-UC_NSN_ENG_PH</td>\n",
       "      <td>SD_1stL_SD-UC_NSN_ENG_PH</td>\n",
       "    </tr>\n",
       "  </tbody>\n",
       "</table>\n",
       "</div>"
      ],
      "text/plain": [
       "                                       short_descriptions  \\\n",
       "155077           Update DNS Resolvers GBL-WTI-AHS UNIX L1   \n",
       "30086                           IT- Issue with IT3PL0154    \n",
       "32942   bh-dc-os-dhn-40.eecloud.nsn-net.net  - 10.131....   \n",
       "147999                            HCP restriction removal   \n",
       "101803  Multiple remote sites LAN and WLAN connectivit...   \n",
       "151055                                Attach pdf document   \n",
       "61527   Role assignment for CDO IT Procurement Team me...   \n",
       "51747               PO#5020151697 closed => Please reopen   \n",
       "18080                         PL - Assign access to role    \n",
       "56435   Not able to import issue in Jira - No space le...   \n",
       "\n",
       "           true_assignment_group     pred_assignment_group  \n",
       "155077       GBL-WTI-AHS UNIX L1       GBL-WTI-AHS UNIX L1  \n",
       "30086     G SNOW IT SERVICE DESK    G SNOW IT SERVICE DESK  \n",
       "32942   SD_1stL_SD-UC_NSN_ENG_PH  SD_1stL_SD-UC_NSN_ENG_PH  \n",
       "147999  Service Desk - Sales All  Service Desk - Sales All  \n",
       "101803  SD_1stL_SD-UC_NSN_ENG_PH  SD_1stL_SD-UC_NSN_ENG_PH  \n",
       "151055  Service Desk - Non Sales  Service Desk - Non Sales  \n",
       "61527      I-Buy Process Support     I-Buy Process Support  \n",
       "51747        SD_UC_CoCare_NSN_GL   G SNOW EXT ATOS MTC FSM  \n",
       "18080     G SNOW PL SERVICE DESK    G SNOW PL SERVICE DESK  \n",
       "56435   SD_1stL_SD-UC_NSN_ENG_PH  SD_1stL_SD-UC_NSN_ENG_PH  "
      ]
     },
     "execution_count": 17,
     "metadata": {},
     "output_type": "execute_result"
    }
   ],
   "source": [
    "result_df.head(10)"
   ]
  },
  {
   "cell_type": "code",
   "execution_count": 19,
   "metadata": {
    "ExecuteTime": {
     "end_time": "2020-10-01T07:13:28.965099Z",
     "start_time": "2020-10-01T07:13:24.788410Z"
    }
   },
   "outputs": [
    {
     "data": {
      "text/plain": [
       "['../models/log_reg_tkt']"
      ]
     },
     "execution_count": 19,
     "metadata": {},
     "output_type": "execute_result"
    }
   ],
   "source": [
    "joblib.dump(value=model, filename='../models/log_reg_tkt', compress=2)"
   ]
  },
  {
   "cell_type": "code",
   "execution_count": 20,
   "metadata": {
    "ExecuteTime": {
     "end_time": "2020-10-01T07:14:05.486086Z",
     "start_time": "2020-10-01T07:14:04.469408Z"
    }
   },
   "outputs": [
    {
     "data": {
      "text/plain": [
       "['../models/vectorizer']"
      ]
     },
     "execution_count": 20,
     "metadata": {},
     "output_type": "execute_result"
    }
   ],
   "source": [
    "joblib.dump(value=vectorizer, filename='../models/vectorizer', compress=2)"
   ]
  },
  {
   "cell_type": "code",
   "execution_count": 21,
   "metadata": {
    "ExecuteTime": {
     "end_time": "2020-10-01T07:14:46.404994Z",
     "start_time": "2020-10-01T07:14:46.050886Z"
    }
   },
   "outputs": [
    {
     "data": {
      "text/plain": [
       "['../models/encoder']"
      ]
     },
     "execution_count": 21,
     "metadata": {},
     "output_type": "execute_result"
    }
   ],
   "source": [
    "joblib.dump(value=encoder, filename='../models/encoder', compress=2)"
   ]
  },
  {
   "cell_type": "code",
   "execution_count": 23,
   "metadata": {
    "ExecuteTime": {
     "end_time": "2020-10-01T08:23:21.315417Z",
     "start_time": "2020-10-01T08:23:20.872284Z"
    }
   },
   "outputs": [],
   "source": [
    "X_test.to_csv('../data/testing_data.csv', index=False)"
   ]
  },
  {
   "cell_type": "code",
   "execution_count": 24,
   "metadata": {
    "ExecuteTime": {
     "end_time": "2020-10-01T08:24:26.714365Z",
     "start_time": "2020-10-01T08:24:26.671361Z"
    }
   },
   "outputs": [],
   "source": [
    "y_test_org = encoder.inverse_transform(y_test)"
   ]
  },
  {
   "cell_type": "code",
   "execution_count": 28,
   "metadata": {
    "ExecuteTime": {
     "end_time": "2020-10-01T08:26:40.183426Z",
     "start_time": "2020-10-01T08:26:40.038388Z"
    }
   },
   "outputs": [],
   "source": [
    "pd.DataFrame({'short_descriptions':X_test.values,\n",
    "              'true_asgn_grps': y_test_org}).to_csv('../data/testing_data.csv', index=False)"
   ]
  },
  {
   "cell_type": "code",
   "execution_count": null,
   "metadata": {},
   "outputs": [],
   "source": []
  }
 ],
 "metadata": {
  "kernelspec": {
   "display_name": "aiops",
   "language": "python",
   "name": "aiops"
  },
  "language_info": {
   "codemirror_mode": {
    "name": "ipython",
    "version": 3
   },
   "file_extension": ".py",
   "mimetype": "text/x-python",
   "name": "python",
   "nbconvert_exporter": "python",
   "pygments_lexer": "ipython3",
   "version": "3.7.9"
  }
 },
 "nbformat": 4,
 "nbformat_minor": 4
}
