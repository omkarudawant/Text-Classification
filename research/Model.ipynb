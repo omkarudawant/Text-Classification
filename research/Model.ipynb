{
 "cells": [
  {
   "cell_type": "code",
   "execution_count": 1,
   "metadata": {
    "ExecuteTime": {
     "end_time": "2020-09-30T09:56:50.477199Z",
     "start_time": "2020-09-30T09:56:47.467858Z"
    }
   },
   "outputs": [],
   "source": [
    "import time\n",
    "import pandas as pd\n",
    "import numpy as np\n",
    "\n",
    "from collections import Counter\n",
    "from sklearn.preprocessing import LabelEncoder\n",
    "from sklearn.feature_extraction.text import CountVectorizer\n",
    "from sklearn.model_selection import train_test_split\n",
    "\n",
    "from sklearn.naive_bayes import MultinomialNB\n",
    "from sklearn.linear_model import LogisticRegression\n",
    "from sklearn.svm import SVC\n",
    "from sklearn.ensemble import RandomForestClassifier\n",
    "from sklearn.tree import DecisionTreeClassifier\n",
    "from sklearn.ensemble import GradientBoostingClassifier\n",
    "from xgboost import XGBClassifier\n",
    "\n",
    "from dask_ml.wrappers import ParallelPostFit\n",
    "\n",
    "from sklearn.metrics import f1_score\n",
    "from sklearn.metrics import precision_score\n",
    "from sklearn.metrics import recall_score\n",
    "from sklearn.metrics import accuracy_score"
   ]
  },
  {
   "cell_type": "code",
   "execution_count": 2,
   "metadata": {
    "ExecuteTime": {
     "end_time": "2020-09-30T09:56:50.765071Z",
     "start_time": "2020-09-30T09:56:50.477199Z"
    }
   },
   "outputs": [
    {
     "data": {
      "text/html": [
       "<div>\n",
       "<style scoped>\n",
       "    .dataframe tbody tr th:only-of-type {\n",
       "        vertical-align: middle;\n",
       "    }\n",
       "\n",
       "    .dataframe tbody tr th {\n",
       "        vertical-align: top;\n",
       "    }\n",
       "\n",
       "    .dataframe thead th {\n",
       "        text-align: right;\n",
       "    }\n",
       "</style>\n",
       "<table border=\"1\" class=\"dataframe\">\n",
       "  <thead>\n",
       "    <tr style=\"text-align: right;\">\n",
       "      <th></th>\n",
       "      <th>short_descriptions</th>\n",
       "      <th>assignment_groups</th>\n",
       "    </tr>\n",
       "  </thead>\n",
       "  <tbody>\n",
       "    <tr>\n",
       "      <th>166044</th>\n",
       "      <td>Data files per our call</td>\n",
       "      <td>PZC-FJ-ServiceDesk</td>\n",
       "    </tr>\n",
       "    <tr>\n",
       "      <th>166045</th>\n",
       "      <td>Approver Matrix</td>\n",
       "      <td>PZC-FJ-ServiceDesk</td>\n",
       "    </tr>\n",
       "    <tr>\n",
       "      <th>166046</th>\n",
       "      <td>a new Product Hierarchy Level 5 and 6: Vegeta...</td>\n",
       "      <td>PZC-FJ-ServiceDesk</td>\n",
       "    </tr>\n",
       "    <tr>\n",
       "      <th>166047</th>\n",
       "      <td>[SAP] Create SAP account in PROD for Charala...</td>\n",
       "      <td>PZC-FJ-ServiceDesk</td>\n",
       "    </tr>\n",
       "    <tr>\n",
       "      <th>166048</th>\n",
       "      <td>APO Daily and Monthly Chains to be triggere...</td>\n",
       "      <td>PZC-FJ-ServiceDesk</td>\n",
       "    </tr>\n",
       "  </tbody>\n",
       "</table>\n",
       "</div>"
      ],
      "text/plain": [
       "                                       short_descriptions   assignment_groups\n",
       "166044                            Data files per our call  PZC-FJ-ServiceDesk\n",
       "166045                                   Approver Matrix   PZC-FJ-ServiceDesk\n",
       "166046   a new Product Hierarchy Level 5 and 6: Vegeta...  PZC-FJ-ServiceDesk\n",
       "166047    [SAP] Create SAP account in PROD for Charala...  PZC-FJ-ServiceDesk\n",
       "166048     APO Daily and Monthly Chains to be triggere...  PZC-FJ-ServiceDesk"
      ]
     },
     "execution_count": 2,
     "metadata": {},
     "output_type": "execute_result"
    }
   ],
   "source": [
    "df = pd.read_csv('../data/final_data.csv')\n",
    "df.tail()"
   ]
  },
  {
   "cell_type": "code",
   "execution_count": 3,
   "metadata": {
    "ExecuteTime": {
     "end_time": "2020-09-30T09:56:50.813075Z",
     "start_time": "2020-09-30T09:56:50.774076Z"
    }
   },
   "outputs": [
    {
     "data": {
      "text/plain": [
       "short_descriptions    2690\n",
       "assignment_groups     2681\n",
       "dtype: int64"
      ]
     },
     "execution_count": 3,
     "metadata": {},
     "output_type": "execute_result"
    }
   ],
   "source": [
    "df.isna().sum()"
   ]
  },
  {
   "cell_type": "code",
   "execution_count": 4,
   "metadata": {
    "ExecuteTime": {
     "end_time": "2020-09-30T09:56:50.892075Z",
     "start_time": "2020-09-30T09:56:50.817074Z"
    }
   },
   "outputs": [],
   "source": [
    "df.dropna(inplace=True)"
   ]
  },
  {
   "cell_type": "code",
   "execution_count": 5,
   "metadata": {
    "ExecuteTime": {
     "end_time": "2020-09-30T09:56:50.908072Z",
     "start_time": "2020-09-30T09:56:50.895075Z"
    }
   },
   "outputs": [],
   "source": [
    "X = df['short_descriptions']\n",
    "y = df['assignment_groups']"
   ]
  },
  {
   "cell_type": "code",
   "execution_count": 6,
   "metadata": {
    "ExecuteTime": {
     "end_time": "2020-09-30T09:56:50.939073Z",
     "start_time": "2020-09-30T09:56:50.912077Z"
    }
   },
   "outputs": [],
   "source": [
    "cnt_vec = CountVectorizer()\n",
    "le = LabelEncoder()"
   ]
  },
  {
   "cell_type": "code",
   "execution_count": 7,
   "metadata": {
    "ExecuteTime": {
     "end_time": "2020-09-30T09:56:53.171092Z",
     "start_time": "2020-09-30T09:56:50.943075Z"
    }
   },
   "outputs": [],
   "source": [
    "X = cnt_vec.fit_transform(X)\n",
    "y = le.fit_transform(y.astype(str))"
   ]
  },
  {
   "cell_type": "code",
   "execution_count": 9,
   "metadata": {
    "ExecuteTime": {
     "end_time": "2020-09-30T09:56:53.266150Z",
     "start_time": "2020-09-30T09:56:53.195093Z"
    }
   },
   "outputs": [],
   "source": [
    "X_train, X_test, y_train, y_test = train_test_split(X, y, test_size=0.2, random_state=0)"
   ]
  },
  {
   "cell_type": "code",
   "execution_count": 10,
   "metadata": {
    "ExecuteTime": {
     "end_time": "2020-09-30T09:56:53.281092Z",
     "start_time": "2020-09-30T09:56:53.269092Z"
    }
   },
   "outputs": [
    {
     "name": "stdout",
     "output_type": "stream",
     "text": [
      "(130679, 54408) (130679,) (32670, 54408) (32670,)\n"
     ]
    }
   ],
   "source": [
    "print(X_train.shape, y_train.shape, X_test.shape, y_test.shape)"
   ]
  },
  {
   "cell_type": "code",
   "execution_count": 11,
   "metadata": {
    "ExecuteTime": {
     "end_time": "2020-09-30T09:56:53.373091Z",
     "start_time": "2020-09-30T09:56:53.361089Z"
    }
   },
   "outputs": [],
   "source": [
    "models = [\n",
    "    MultinomialNB(),\n",
    "    LogisticRegression(n_jobs=-1),\n",
    "    RandomForestClassifier(n_jobs=-1),\n",
    "#     SVC(),\n",
    "    XGBClassifier(n_jobs=-1),\n",
    "#     DecisionTreeClassifier()\n",
    "]\n",
    "\n",
    "\n",
    "def display_metrics(true, pred):\n",
    "    f1 = round(f1_score(y_true=true, y_pred=pred, average='weighted') * 100, 2)\n",
    "    precision = round(precision_score(y_true=true, y_pred=pred, average='weighted') * 100, 2)\n",
    "    recall = round(recall_score(y_true=true, y_pred=pred, average='weighted') * 100, 2)\n",
    "    acc = round(accuracy_score(y_true=y_test, y_pred=preds) * 100, 2)\n",
    "\n",
    "    print(f'Acc: {acc}')\n",
    "    print(f'F1: {f1}')\n",
    "    print(f'Precision: {precision}')\n",
    "    print(f'Recall: {recall}')"
   ]
  },
  {
   "cell_type": "code",
   "execution_count": 12,
   "metadata": {
    "ExecuteTime": {
     "end_time": "2020-09-30T10:52:48.500674Z",
     "start_time": "2020-09-30T10:01:00.528962Z"
    }
   },
   "outputs": [
    {
     "name": "stdout",
     "output_type": "stream",
     "text": [
      "Training -> MultinomialNB\n"
     ]
    },
    {
     "name": "stderr",
     "output_type": "stream",
     "text": [
      "C:\\ProgramData\\Miniconda3\\envs\\AIOps\\lib\\site-packages\\sklearn\\metrics\\_classification.py:1221: UndefinedMetricWarning: Precision is ill-defined and being set to 0.0 in labels with no predicted samples. Use `zero_division` parameter to control this behavior.\n",
      "  _warn_prf(average, modifier, msg_start, len(result))\n"
     ]
    },
    {
     "name": "stdout",
     "output_type": "stream",
     "text": [
      "Acc: 75.13\n",
      "F1: 69.42\n",
      "Precision: 73.12\n",
      "Recall: 75.13\n",
      "Training time: 1 seconds\n",
      "----------\n",
      "Training -> LogisticRegression\n"
     ]
    },
    {
     "name": "stderr",
     "output_type": "stream",
     "text": [
      "C:\\ProgramData\\Miniconda3\\envs\\AIOps\\lib\\site-packages\\sklearn\\metrics\\_classification.py:1221: UndefinedMetricWarning: Recall is ill-defined and being set to 0.0 in labels with no true samples. Use `zero_division` parameter to control this behavior.\n",
      "  _warn_prf(average, modifier, msg_start, len(result))\n"
     ]
    },
    {
     "name": "stdout",
     "output_type": "stream",
     "text": [
      "Acc: 83.08\n",
      "F1: 81.53\n",
      "Precision: 81.63\n",
      "Recall: 83.08\n",
      "Training time: 654 seconds\n",
      "----------\n",
      "Training -> RandomForestClassifier\n"
     ]
    },
    {
     "name": "stderr",
     "output_type": "stream",
     "text": [
      "C:\\ProgramData\\Miniconda3\\envs\\AIOps\\lib\\site-packages\\sklearn\\metrics\\_classification.py:1221: UndefinedMetricWarning: Precision is ill-defined and being set to 0.0 in labels with no predicted samples. Use `zero_division` parameter to control this behavior.\n",
      "  _warn_prf(average, modifier, msg_start, len(result))\n",
      "C:\\ProgramData\\Miniconda3\\envs\\AIOps\\lib\\site-packages\\sklearn\\metrics\\_classification.py:1221: UndefinedMetricWarning: Recall is ill-defined and being set to 0.0 in labels with no true samples. Use `zero_division` parameter to control this behavior.\n",
      "  _warn_prf(average, modifier, msg_start, len(result))\n"
     ]
    },
    {
     "name": "stdout",
     "output_type": "stream",
     "text": [
      "Acc: 81.82\n",
      "F1: 80.07\n",
      "Precision: 80.48\n",
      "Recall: 81.82\n",
      "Training time: 1084 seconds\n",
      "----------\n",
      "Training -> XGBClassifier\n",
      "Acc: 57.09\n",
      "F1: 41.5\n",
      "Precision: 32.6\n",
      "Recall: 57.09\n",
      "Training time: 862 seconds\n",
      "----------\n",
      "Wall time: 51min 46s\n"
     ]
    }
   ],
   "source": [
    "%%time\n",
    "trained_models = dict()\n",
    "\n",
    "for model in models:\n",
    "    print(f'Training -> {model.__class__.__name__}')\n",
    "    s = time.time()\n",
    "    \n",
    "    trained_models[model.__class__.__name__] = ParallelPostFit(\n",
    "        estimator=model\n",
    "    )\n",
    "    trained_models[model.__class__.__name__].fit(X_train, y_train)\n",
    "    \n",
    "    e = time.time()\n",
    "    \n",
    "    preds = trained_models[model.__class__.__name__].predict(X_test)\n",
    "    display_metrics(true=y_test, pred=preds)\n",
    "    \n",
    "    print(f'Training time: {round(e -s)} seconds')\n",
    "    print('-' * 10)"
   ]
  },
  {
   "cell_type": "code",
   "execution_count": 13,
   "metadata": {
    "ExecuteTime": {
     "end_time": "2020-09-30T10:54:30.862884Z",
     "start_time": "2020-09-30T10:54:30.511220Z"
    }
   },
   "outputs": [],
   "source": [
    "import joblib"
   ]
  },
  {
   "cell_type": "code",
   "execution_count": 14,
   "metadata": {
    "ExecuteTime": {
     "end_time": "2020-09-30T10:55:38.948046Z",
     "start_time": "2020-09-30T10:55:38.362680Z"
    }
   },
   "outputs": [
    {
     "data": {
      "text/plain": [
       "{'MultinomialNB': ParallelPostFit(estimator=MultinomialNB()),\n",
       " 'LogisticRegression': ParallelPostFit(estimator=LogisticRegression(n_jobs=-1)),\n",
       " 'RandomForestClassifier': ParallelPostFit(estimator=RandomForestClassifier(n_jobs=-1)),\n",
       " 'XGBClassifier': ParallelPostFit(estimator=XGBClassifier(base_score=0.5, booster='gbtree',\n",
       "                                         colsample_bylevel=1, colsample_bynode=1,\n",
       "                                         colsample_bytree=1, gamma=0, gpu_id=-1,\n",
       "                                         importance_type='gain',\n",
       "                                         interaction_constraints='',\n",
       "                                         learning_rate=0.300000012,\n",
       "                                         max_delta_step=0, max_depth=6,\n",
       "                                         min_child_weight=1, missing=nan,\n",
       "                                         monotone_constraints='()',\n",
       "                                         n_estimators=100, n_jobs=-1,\n",
       "                                         num_parallel_tree=1,\n",
       "                                         objective='multi:softprob',\n",
       "                                         random_state=0, reg_alpha=0,\n",
       "                                         reg_lambda=1, scale_pos_weight=None,\n",
       "                                         subsample=1, tree_method='exact',\n",
       "                                         validate_parameters=1, verbosity=None))}"
      ]
     },
     "execution_count": 14,
     "metadata": {},
     "output_type": "execute_result"
    }
   ],
   "source": [
    "trained_models"
   ]
  },
  {
   "cell_type": "code",
   "execution_count": 16,
   "metadata": {
    "ExecuteTime": {
     "end_time": "2020-09-30T11:12:39.618913Z",
     "start_time": "2020-09-30T11:12:32.989738Z"
    }
   },
   "outputs": [
    {
     "data": {
      "text/plain": [
       "['../models/naive_bayes_tkt.pkl']"
      ]
     },
     "execution_count": 16,
     "metadata": {},
     "output_type": "execute_result"
    }
   ],
   "source": [
    "joblib.dump(value=trained_models['MultinomialNB'], filename='../models/naive_bayes_tkt.pkl', compress=True)"
   ]
  },
  {
   "cell_type": "code",
   "execution_count": 17,
   "metadata": {
    "ExecuteTime": {
     "end_time": "2020-09-30T11:13:18.087913Z",
     "start_time": "2020-09-30T11:13:01.421367Z"
    }
   },
   "outputs": [
    {
     "data": {
      "text/plain": [
       "['../models/log_reg_tkt.pkl']"
      ]
     },
     "execution_count": 17,
     "metadata": {},
     "output_type": "execute_result"
    }
   ],
   "source": [
    "joblib.dump(value=trained_models['LogisticRegression'], filename='../models/log_reg_tkt.pkl', compress=True)"
   ]
  },
  {
   "cell_type": "code",
   "execution_count": 19,
   "metadata": {
    "ExecuteTime": {
     "end_time": "2020-09-30T11:27:07.964187Z",
     "start_time": "2020-09-30T11:15:49.994560Z"
    }
   },
   "outputs": [
    {
     "data": {
      "text/plain": [
       "['../models/random_forest_tkt.joblib']"
      ]
     },
     "execution_count": 19,
     "metadata": {},
     "output_type": "execute_result"
    }
   ],
   "source": [
    "joblib.dump(value=trained_models['RandomForestClassifier'], filename='../models/random_forest_tkt.joblib', compress=True)"
   ]
  },
  {
   "cell_type": "code",
   "execution_count": 20,
   "metadata": {
    "ExecuteTime": {
     "end_time": "2020-09-30T11:40:54.524139Z",
     "start_time": "2020-09-30T11:40:43.246475Z"
    }
   },
   "outputs": [
    {
     "data": {
      "text/plain": [
       "['../models/xgb_tkt.pkl']"
      ]
     },
     "execution_count": 20,
     "metadata": {},
     "output_type": "execute_result"
    }
   ],
   "source": [
    "joblib.dump(value=trained_models['XGBClassifier'], filename='../models/xgb_tkt.pkl', compress=True)"
   ]
  },
  {
   "cell_type": "code",
   "execution_count": 21,
   "metadata": {
    "ExecuteTime": {
     "end_time": "2020-09-30T11:42:52.962260Z",
     "start_time": "2020-09-30T11:42:52.090952Z"
    }
   },
   "outputs": [
    {
     "data": {
      "text/plain": [
       "['../models/encoder.pkl']"
      ]
     },
     "execution_count": 21,
     "metadata": {},
     "output_type": "execute_result"
    }
   ],
   "source": [
    "joblib.dump(value=cnt_vec, filename='../models/vectorizer.pkl')\n",
    "joblib.dump(value=le, filename='../models/encoder.pkl')"
   ]
  },
  {
   "cell_type": "code",
   "execution_count": 22,
   "metadata": {
    "ExecuteTime": {
     "end_time": "2020-09-30T11:44:38.246549Z",
     "start_time": "2020-09-30T11:44:37.826081Z"
    }
   },
   "outputs": [
    {
     "data": {
      "text/plain": [
       "(scipy.sparse.csr.csr_matrix,\n",
       " scipy.sparse.csr.csr_matrix,\n",
       " numpy.ndarray,\n",
       " numpy.ndarray)"
      ]
     },
     "execution_count": 22,
     "metadata": {},
     "output_type": "execute_result"
    }
   ],
   "source": [
    "type(X_train), type(X_test), type(y_train), type(y_test)"
   ]
  },
  {
   "cell_type": "code",
   "execution_count": 25,
   "metadata": {
    "ExecuteTime": {
     "end_time": "2020-09-30T11:46:33.137038Z",
     "start_time": "2020-09-30T11:46:32.758941Z"
    }
   },
   "outputs": [],
   "source": [
    "y_train_orig = le.inverse_transform(y_train)"
   ]
  },
  {
   "cell_type": "code",
   "execution_count": 26,
   "metadata": {
    "ExecuteTime": {
     "end_time": "2020-09-30T11:46:33.151693Z",
     "start_time": "2020-09-30T11:46:33.137038Z"
    },
    "scrolled": false
   },
   "outputs": [
    {
     "data": {
      "text/plain": [
       "array(['GBL-WTI-AHS UNIX L1', 'SD_UC_CoCare_NSN_GL',\n",
       "       'G SNOW RO SERVICE DESK', ..., 'Service Desk - Non Sales',\n",
       "       'SD_1stL_SD-UC_NSN_ENG_PH', 'SD_1stL_SD-UC_NSN_ENG_PH'],\n",
       "      dtype=object)"
      ]
     },
     "execution_count": 26,
     "metadata": {},
     "output_type": "execute_result"
    }
   ],
   "source": [
    "y_train_orig"
   ]
  },
  {
   "cell_type": "code",
   "execution_count": 27,
   "metadata": {
    "ExecuteTime": {
     "end_time": "2020-09-30T11:48:22.327799Z",
     "start_time": "2020-09-30T11:48:20.399769Z"
    }
   },
   "outputs": [],
   "source": [
    "model = joblib.load(filename='../models/log_reg_tkt.pkl')"
   ]
  },
  {
   "cell_type": "code",
   "execution_count": 28,
   "metadata": {
    "ExecuteTime": {
     "end_time": "2020-09-30T11:49:10.598225Z",
     "start_time": "2020-09-30T11:49:10.580228Z"
    }
   },
   "outputs": [],
   "source": [
    "X_org = df['short_descriptions']\n",
    "y_org = df['assignment_groups']"
   ]
  },
  {
   "cell_type": "code",
   "execution_count": 29,
   "metadata": {
    "ExecuteTime": {
     "end_time": "2020-09-30T11:49:54.392407Z",
     "start_time": "2020-09-30T11:49:54.052400Z"
    }
   },
   "outputs": [],
   "source": [
    "vectorizer = joblib.load(filename='../models/vectorizer.pkl')\n",
    "encoder = joblib.load(filename='../models/encoder.pkl')"
   ]
  },
  {
   "cell_type": "code",
   "execution_count": 30,
   "metadata": {
    "ExecuteTime": {
     "end_time": "2020-09-30T11:50:46.212444Z",
     "start_time": "2020-09-30T11:50:43.652354Z"
    }
   },
   "outputs": [],
   "source": [
    "X_org_vec = vectorizer.transform(X_org)\n",
    "y_org_enc = encoder.transform(y_org)"
   ]
  },
  {
   "cell_type": "code",
   "execution_count": 33,
   "metadata": {
    "ExecuteTime": {
     "end_time": "2020-09-30T11:51:50.578331Z",
     "start_time": "2020-09-30T11:51:49.867937Z"
    }
   },
   "outputs": [],
   "source": [
    "preds = model.predict(X_org_vec)"
   ]
  },
  {
   "cell_type": "code",
   "execution_count": 34,
   "metadata": {
    "ExecuteTime": {
     "end_time": "2020-09-30T11:52:50.177468Z",
     "start_time": "2020-09-30T11:52:49.811656Z"
    }
   },
   "outputs": [
    {
     "data": {
      "text/plain": [
       "0.8757996681950915"
      ]
     },
     "execution_count": 34,
     "metadata": {},
     "output_type": "execute_result"
    }
   ],
   "source": [
    "accuracy_score(y_true=y_org_enc, y_pred=preds)"
   ]
  },
  {
   "cell_type": "code",
   "execution_count": 35,
   "metadata": {
    "ExecuteTime": {
     "end_time": "2020-09-30T11:53:12.658845Z",
     "start_time": "2020-09-30T11:53:12.236858Z"
    }
   },
   "outputs": [
    {
     "data": {
      "text/plain": [
       "0.8662387130181455"
      ]
     },
     "execution_count": 35,
     "metadata": {},
     "output_type": "execute_result"
    }
   ],
   "source": [
    "f1_score(y_true=y_org_enc, y_pred=preds, average='weighted')"
   ]
  },
  {
   "cell_type": "code",
   "execution_count": 36,
   "metadata": {
    "ExecuteTime": {
     "end_time": "2020-09-30T11:53:29.058788Z",
     "start_time": "2020-09-30T11:53:28.955793Z"
    }
   },
   "outputs": [
    {
     "name": "stderr",
     "output_type": "stream",
     "text": [
      "C:\\ProgramData\\Miniconda3\\envs\\AIOps\\lib\\site-packages\\sklearn\\metrics\\_classification.py:1221: UndefinedMetricWarning: Precision is ill-defined and being set to 0.0 in labels with no predicted samples. Use `zero_division` parameter to control this behavior.\n",
      "  _warn_prf(average, modifier, msg_start, len(result))\n"
     ]
    },
    {
     "data": {
      "text/plain": [
       "0.8723425898308479"
      ]
     },
     "execution_count": 36,
     "metadata": {},
     "output_type": "execute_result"
    }
   ],
   "source": [
    "precision_score(y_true=y_org_enc, y_pred=preds, average='weighted')"
   ]
  },
  {
   "cell_type": "code",
   "execution_count": 37,
   "metadata": {
    "ExecuteTime": {
     "end_time": "2020-09-30T11:53:38.261998Z",
     "start_time": "2020-09-30T11:53:38.175010Z"
    }
   },
   "outputs": [
    {
     "data": {
      "text/plain": [
       "0.8757996681950915"
      ]
     },
     "execution_count": 37,
     "metadata": {},
     "output_type": "execute_result"
    }
   ],
   "source": [
    "recall_score(y_true=y_org_enc, y_pred=preds, average='weighted')"
   ]
  },
  {
   "cell_type": "code",
   "execution_count": null,
   "metadata": {},
   "outputs": [],
   "source": []
  }
 ],
 "metadata": {
  "kernelspec": {
   "display_name": "aiops",
   "language": "python",
   "name": "aiops"
  },
  "language_info": {
   "codemirror_mode": {
    "name": "ipython",
    "version": 3
   },
   "file_extension": ".py",
   "mimetype": "text/x-python",
   "name": "python",
   "nbconvert_exporter": "python",
   "pygments_lexer": "ipython3",
   "version": "3.7.9"
  }
 },
 "nbformat": 4,
 "nbformat_minor": 4
}
