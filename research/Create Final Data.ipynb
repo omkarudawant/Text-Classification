{
 "cells": [
  {
   "cell_type": "code",
   "execution_count": 1,
   "metadata": {
    "ExecuteTime": {
     "end_time": "2020-09-30T07:07:30.211273Z",
     "start_time": "2020-09-30T07:07:27.689549Z"
    }
   },
   "outputs": [
    {
     "name": "stderr",
     "output_type": "stream",
     "text": [
      "C:\\ProgramData\\Miniconda3\\envs\\AIOps\\lib\\site-packages\\tqdm\\std.py:706: FutureWarning: The Panel class is removed from pandas. Accessing it from the top-level namespace will also be removed in the next version\n",
      "  from pandas import Panel\n"
     ]
    }
   ],
   "source": [
    "import pandas as pd\n",
    "import numpy as np\n",
    "import os\n",
    "import re\n",
    "import string\n",
    "import tqdm\n",
    "import spacy\n",
    "\n",
    "from tqdm.notebook import tqdm_notebook\n",
    "\n",
    "tqdm_notebook.pandas()\n",
    "nlp = spacy.load('en_core_web_sm')"
   ]
  },
  {
   "cell_type": "code",
   "execution_count": 2,
   "metadata": {
    "ExecuteTime": {
     "end_time": "2020-09-30T07:07:30.226271Z",
     "start_time": "2020-09-30T07:07:30.214269Z"
    }
   },
   "outputs": [],
   "source": [
    "short_desc = {\n",
    "    'Short description', 'short_description', 'BRIEF_DESCRIPTION',\n",
    "}\n",
    "\n",
    "assgn_grp = {\n",
    "    'Assignment group', 'assignment_group', 'ASSIGNMENT_GROUP'\n",
    "}"
   ]
  },
  {
   "cell_type": "code",
   "execution_count": 3,
   "metadata": {
    "ExecuteTime": {
     "end_time": "2020-09-30T07:07:30.257269Z",
     "start_time": "2020-09-30T07:07:30.232271Z"
    }
   },
   "outputs": [],
   "source": [
    "path = '../data/'"
   ]
  },
  {
   "cell_type": "code",
   "execution_count": 4,
   "metadata": {
    "ExecuteTime": {
     "end_time": "2020-09-30T07:07:30.289266Z",
     "start_time": "2020-09-30T07:07:30.260271Z"
    }
   },
   "outputs": [
    {
     "data": {
      "text/plain": [
       "['../data/Cococola_SRsCategorizedDump_1.csv',\n",
       " '../data/final_data.csv',\n",
       " '../data/Nokia_Incident_v2.csv',\n",
       " '../data/Nokia_Service Request.csv',\n",
       " '../data/Olympics_Incident.csv',\n",
       " '../data/OTSUKA_Inc_6 months_1 .csv',\n",
       " '../data/Pfizer Ticket Data _Aug19_Jan20 YT Graph.csv',\n",
       " '../data/SAP AMS Incidents 20200630 v2.csv']"
      ]
     },
     "execution_count": 4,
     "metadata": {},
     "output_type": "execute_result"
    }
   ],
   "source": [
    "files = [\n",
    "    path + file for file in os.listdir(path) if file.endswith('.csv')\n",
    "]\n",
    "files"
   ]
  },
  {
   "cell_type": "code",
   "execution_count": 5,
   "metadata": {
    "ExecuteTime": {
     "end_time": "2020-09-30T07:07:30.321269Z",
     "start_time": "2020-09-30T07:07:30.292272Z"
    }
   },
   "outputs": [],
   "source": [
    "def create_data(files: list, assgn: set, desc: set) -> pd.DataFrame:\n",
    "\n",
    "    _descriptions, _assgn_groups = list(), list()\n",
    "\n",
    "    for file in files:\n",
    "        print(f'Processing -> {file}')\n",
    "        df = pd.read_csv(file)\n",
    "        available_cols = set(df.columns)\n",
    "\n",
    "        descriptions = available_cols.intersection(desc)\n",
    "        assgn_grps = available_cols.intersection(assgn)\n",
    "\n",
    "        if descriptions and assgn_grps:\n",
    "            \n",
    "            _desc = df[descriptions].values.tolist()\n",
    "            _asgn_grp = df[assgn_grps].values.tolist()\n",
    "            \n",
    "            _descriptions.extend(_desc)\n",
    "            _assgn_groups.extend(_asgn_grp)\n",
    "            \n",
    "        else:\n",
    "            print('One of the required cols is missing !')\n",
    "            print(f'Found only {descriptions} {assgn_grp}')\n",
    "\n",
    "    print(len(_descriptions), len(_assgn_groups))\n",
    "    \n",
    "    try:\n",
    "        new_df = pd.DataFrame({\n",
    "            'short_descriptions': _descriptions,\n",
    "            'assignment_groups': _assgn_groups\n",
    "        })\n",
    "        \n",
    "        new_df['short_descriptions'] = new_df['short_descriptions'].apply(lambda x: x[0])\n",
    "        new_df['assignment_groups'] = new_df['assignment_groups'].apply(lambda x: x[0])\n",
    "        \n",
    "        return new_df\n",
    "    except ValueError as e:\n",
    "        print('Error: ', e)"
   ]
  },
  {
   "cell_type": "code",
   "execution_count": 6,
   "metadata": {
    "ExecuteTime": {
     "end_time": "2020-09-30T07:07:35.647790Z",
     "start_time": "2020-09-30T07:07:30.324272Z"
    },
    "scrolled": false
   },
   "outputs": [
    {
     "name": "stdout",
     "output_type": "stream",
     "text": [
      "Processing -> ../data/Cococola_SRsCategorizedDump_1.csv\n",
      "Processing -> ../data/final_data.csv\n",
      "One of the required cols is missing !\n",
      "Found only set() {'assignment_group', 'Assignment group', 'ASSIGNMENT_GROUP'}\n",
      "Processing -> ../data/Nokia_Incident_v2.csv\n",
      "Processing -> ../data/Nokia_Service Request.csv\n"
     ]
    },
    {
     "name": "stderr",
     "output_type": "stream",
     "text": [
      "C:\\ProgramData\\Miniconda3\\envs\\AIOps\\lib\\site-packages\\IPython\\core\\interactiveshell.py:3337: DtypeWarning: Columns (8) have mixed types.Specify dtype option on import or set low_memory=False.\n",
      "  if (await self.run_code(code, result,  async_=asy)):\n"
     ]
    },
    {
     "name": "stdout",
     "output_type": "stream",
     "text": [
      "One of the required cols is missing !\n",
      "Found only {'short_description'} {'assignment_group', 'Assignment group', 'ASSIGNMENT_GROUP'}\n",
      "Processing -> ../data/Olympics_Incident.csv\n",
      "One of the required cols is missing !\n",
      "Found only {'short_description'} {'assignment_group', 'Assignment group', 'ASSIGNMENT_GROUP'}\n",
      "Processing -> ../data/OTSUKA_Inc_6 months_1 .csv\n"
     ]
    },
    {
     "name": "stderr",
     "output_type": "stream",
     "text": [
      "C:\\ProgramData\\Miniconda3\\envs\\AIOps\\lib\\site-packages\\IPython\\core\\interactiveshell.py:3337: DtypeWarning: Columns (15,20,21,25,29,31,40,48) have mixed types.Specify dtype option on import or set low_memory=False.\n",
      "  if (await self.run_code(code, result,  async_=asy)):\n"
     ]
    },
    {
     "name": "stdout",
     "output_type": "stream",
     "text": [
      "Processing -> ../data/Pfizer Ticket Data _Aug19_Jan20 YT Graph.csv\n",
      "Processing -> ../data/SAP AMS Incidents 20200630 v2.csv\n",
      "166049 166049\n"
     ]
    }
   ],
   "source": [
    "result = create_data(files=files, assgn=assgn_grp, desc=short_desc)"
   ]
  },
  {
   "cell_type": "code",
   "execution_count": 7,
   "metadata": {
    "ExecuteTime": {
     "end_time": "2020-09-30T07:07:35.678132Z",
     "start_time": "2020-09-30T07:07:35.652114Z"
    }
   },
   "outputs": [
    {
     "data": {
      "text/html": [
       "<div>\n",
       "<style scoped>\n",
       "    .dataframe tbody tr th:only-of-type {\n",
       "        vertical-align: middle;\n",
       "    }\n",
       "\n",
       "    .dataframe tbody tr th {\n",
       "        vertical-align: top;\n",
       "    }\n",
       "\n",
       "    .dataframe thead th {\n",
       "        text-align: right;\n",
       "    }\n",
       "</style>\n",
       "<table border=\"1\" class=\"dataframe\">\n",
       "  <thead>\n",
       "    <tr style=\"text-align: right;\">\n",
       "      <th></th>\n",
       "      <th>short_descriptions</th>\n",
       "      <th>assignment_groups</th>\n",
       "    </tr>\n",
       "  </thead>\n",
       "  <tbody>\n",
       "    <tr>\n",
       "      <th>166044</th>\n",
       "      <td>Data files per our call</td>\n",
       "      <td>PZC-FJ-ServiceDesk</td>\n",
       "    </tr>\n",
       "    <tr>\n",
       "      <th>166045</th>\n",
       "      <td>Approver Matrix</td>\n",
       "      <td>PZC-FJ-ServiceDesk</td>\n",
       "    </tr>\n",
       "    <tr>\n",
       "      <th>166046</th>\n",
       "      <td>a new Product Hierarchy Level 5 and 6: Vegeta...</td>\n",
       "      <td>PZC-FJ-ServiceDesk</td>\n",
       "    </tr>\n",
       "    <tr>\n",
       "      <th>166047</th>\n",
       "      <td>[SAP] Create SAP account in PROD for Charala...</td>\n",
       "      <td>PZC-FJ-ServiceDesk</td>\n",
       "    </tr>\n",
       "    <tr>\n",
       "      <th>166048</th>\n",
       "      <td>APO Daily and Monthly Chains to be triggere...</td>\n",
       "      <td>PZC-FJ-ServiceDesk</td>\n",
       "    </tr>\n",
       "  </tbody>\n",
       "</table>\n",
       "</div>"
      ],
      "text/plain": [
       "                                       short_descriptions   assignment_groups\n",
       "166044                            Data files per our call  PZC-FJ-ServiceDesk\n",
       "166045                                   Approver Matrix   PZC-FJ-ServiceDesk\n",
       "166046   a new Product Hierarchy Level 5 and 6: Vegeta...  PZC-FJ-ServiceDesk\n",
       "166047    [SAP] Create SAP account in PROD for Charala...  PZC-FJ-ServiceDesk\n",
       "166048     APO Daily and Monthly Chains to be triggere...  PZC-FJ-ServiceDesk"
      ]
     },
     "execution_count": 7,
     "metadata": {},
     "output_type": "execute_result"
    }
   ],
   "source": [
    "result.tail()"
   ]
  },
  {
   "cell_type": "code",
   "execution_count": 8,
   "metadata": {
    "ExecuteTime": {
     "end_time": "2020-09-30T07:07:36.359975Z",
     "start_time": "2020-09-30T07:07:35.683154Z"
    }
   },
   "outputs": [],
   "source": [
    "result.to_csv('../data/final_data.csv', index=False)"
   ]
  },
  {
   "cell_type": "code",
   "execution_count": null,
   "metadata": {},
   "outputs": [],
   "source": []
  }
 ],
 "metadata": {
  "kernelspec": {
   "display_name": "aiops",
   "language": "python",
   "name": "aiops"
  },
  "language_info": {
   "codemirror_mode": {
    "name": "ipython",
    "version": 3
   },
   "file_extension": ".py",
   "mimetype": "text/x-python",
   "name": "python",
   "nbconvert_exporter": "python",
   "pygments_lexer": "ipython3",
   "version": "3.7.9"
  }
 },
 "nbformat": 4,
 "nbformat_minor": 4
}
